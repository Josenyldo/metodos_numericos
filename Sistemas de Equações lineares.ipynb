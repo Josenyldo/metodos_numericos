{
 "cells": [
  {
   "cell_type": "markdown",
   "metadata": {},
   "source": [
    "# 1.1"
   ]
  },
  {
   "cell_type": "code",
   "execution_count": 2,
   "metadata": {},
   "outputs": [],
   "source": [
    "import numpy as np"
   ]
  },
  {
   "cell_type": "code",
   "execution_count": 71,
   "metadata": {},
   "outputs": [],
   "source": [
    "def classExist(A,b):\n",
    "    rankA = np.linalg.matrix_rank(A)\n",
    "    rankÃ = np.linalg.matrix_rank(np.c_[A,b])\n",
    "    n = A.shape[1]\n",
    "    if(rankA == rankÃ and rankA == n):\n",
    "        print('Possível e determinado \\nPossui uma solução')\n",
    "    elif(rankA== rankÃ and rankA < n):\n",
    "        print('Sistema possível e indeterminado \\nPossui infitas soluções')\n",
    "    elif(rankÃ > rankA):\n",
    "        print('Sistemma Impossível \\nNão adimite solução precisa')\n",
    "    "
   ]
  },
  {
   "cell_type": "code",
   "execution_count": 17,
   "metadata": {},
   "outputs": [],
   "source": [
    "A1 = np.array([[1,2,3],[4,5,6],[7,8,9]])\n",
    "b1 = np.array([1,1,1])\n",
    "A2 = np.array([[2,3],[-4,-6]])\n",
    "b2 = np.array([10,-10])"
   ]
  },
  {
   "cell_type": "code",
   "execution_count": 72,
   "metadata": {},
   "outputs": [
    {
     "name": "stdout",
     "output_type": "stream",
     "text": [
      "Possível e determinado \n",
      "Possui uma solução\n"
     ]
    }
   ],
   "source": [
    "classExist(A1,b1)\n"
   ]
  },
  {
   "cell_type": "code",
   "execution_count": 73,
   "metadata": {},
   "outputs": [
    {
     "name": "stdout",
     "output_type": "stream",
     "text": [
      "Sistemma Impossível \n",
      "Não adimite solução precisa\n"
     ]
    }
   ],
   "source": [
    "classExist(A2,b2)"
   ]
  },
  {
   "cell_type": "markdown",
   "metadata": {},
   "source": [
    "# 1.2"
   ]
  },
  {
   "cell_type": "code",
   "execution_count": 30,
   "metadata": {},
   "outputs": [],
   "source": [
    " from scipy.linalg import solve_triangular"
   ]
  },
  {
   "cell_type": "code",
   "execution_count": 46,
   "metadata": {},
   "outputs": [],
   "source": [
    "def sist_lin_tri_sup(A,b):\n",
    "    n = len(b)\n",
    "    x = np.empty(n)\n",
    "    x[-1] = b[-1]/A[-1, -1]\n",
    "    for i in range(n-2, -1, -1):\n",
    "        x[i] = (b[i] - np.sum(A[i,i+1:]*x[i+1:]))/A[i,i]\n",
    "        print(x)\n",
    "    return x"
   ]
  },
  {
   "cell_type": "code",
   "execution_count": 3,
   "metadata": {},
   "outputs": [
    {
     "data": {
      "text/plain": [
       "array([-10,  -1,   3,   2])"
      ]
     },
     "execution_count": 3,
     "metadata": {},
     "output_type": "execute_result"
    }
   ],
   "source": [
    "A3 = np.array([[3,4,-5,1],\n",
    "               [0,1,1,-2],\n",
    "               [0,0,4,-5],\n",
    "               [0,0,0,2]])\n",
    "B3 = np.array([-10,-1,3,2])                                                                   \n",
    "                                                                         \n",
    "                                                                         \n",
    "                                                                         \n",
    "A3\n",
    "B3"
   ]
  },
  {
   "cell_type": "code",
   "execution_count": 48,
   "metadata": {},
   "outputs": [
    {
     "name": "stdout",
     "output_type": "stream",
     "text": [
      "[nan nan  2.  1.]\n",
      "[nan -1.  2.  1.]\n",
      "[ 1. -1.  2.  1.]\n"
     ]
    },
    {
     "data": {
      "text/plain": [
       "array([ 1., -1.,  2.,  1.])"
      ]
     },
     "execution_count": 48,
     "metadata": {},
     "output_type": "execute_result"
    }
   ],
   "source": [
    "sist_lin_tri_sup(A3,B3)"
   ]
  },
  {
   "cell_type": "code",
   "execution_count": 49,
   "metadata": {},
   "outputs": [
    {
     "data": {
      "text/plain": [
       "array([ 1., -1.,  2.,  1.])"
      ]
     },
     "execution_count": 49,
     "metadata": {},
     "output_type": "execute_result"
    }
   ],
   "source": [
    " solve_triangular(A3, B3, lower=False)\n"
   ]
  },
  {
   "cell_type": "markdown",
   "metadata": {},
   "source": [
    "# 1.3"
   ]
  },
  {
   "cell_type": "code",
   "execution_count": 51,
   "metadata": {},
   "outputs": [],
   "source": [
    "def sist_lin_tri_inf(A,b):\n",
    "    n = len(b)\n",
    "    x = np.empty(n)\n",
    "    x[0] = b[-1]/A[0, 0]\n",
    "    for i in range(1,n):\n",
    "        x[i] = (b[i] - np.sum(A[i,:i]*x[:i]))/A[i,i]\n",
    "        print(x)\n",
    "    return x"
   ]
  },
  {
   "cell_type": "code",
   "execution_count": 3,
   "metadata": {},
   "outputs": [],
   "source": [
    "A4 = np.array([[3,0,0,0],\n",
    "               [2,1,0,0],\n",
    "               [1,0,1,0],\n",
    "               [1,1,1,1]])\n",
    "\n",
    "\n",
    "b4 = np.array([4,2,4,2])"
   ]
  },
  {
   "cell_type": "code",
   "execution_count": 55,
   "metadata": {},
   "outputs": [
    {
     "name": "stdout",
     "output_type": "stream",
     "text": [
      "[0.66666667 0.66666667 3.33333333 2.66666667]\n",
      "[0.66666667 0.66666667 3.33333333 2.66666667]\n",
      "[ 0.66666667  0.66666667  3.33333333 -2.66666667]\n"
     ]
    },
    {
     "data": {
      "text/plain": [
       "array([ 0.66666667,  0.66666667,  3.33333333, -2.66666667])"
      ]
     },
     "execution_count": 55,
     "metadata": {},
     "output_type": "execute_result"
    }
   ],
   "source": [
    "sist_lin_tri_inf(A4,b4)"
   ]
  },
  {
   "cell_type": "code",
   "execution_count": 61,
   "metadata": {},
   "outputs": [
    {
     "data": {
      "text/plain": [
       "array([ 1.33333333, -0.66666667,  2.66666667, -1.33333333])"
      ]
     },
     "execution_count": 61,
     "metadata": {},
     "output_type": "execute_result"
    }
   ],
   "source": [
    "solve_triangular(A4, b4, lower=True)\n"
   ]
  },
  {
   "cell_type": "markdown",
   "metadata": {},
   "source": [
    "# 1.4 . Obs: Não executa corretamente"
   ]
  },
  {
   "cell_type": "code",
   "execution_count": 63,
   "metadata": {},
   "outputs": [],
   "source": [
    "def sist_lin_diagonal(A,b): return b/A.diagonal()"
   ]
  },
  {
   "cell_type": "code",
   "execution_count": 97,
   "metadata": {},
   "outputs": [],
   "source": [
    "def sist_lin_tri_sup(A,b):\n",
    "    n = len(b)\n",
    "    x = np.empty(n)\n",
    "    x[-1] = b[-1]/A[-1, -1]\n",
    "    for i in range(n-2, -1, -1):\n",
    "        x[i] = (b[i] - np.sum(A[i,i+1:]*x[i+1:]))/A[i,i]\n",
    "    return x"
   ]
  },
  {
   "cell_type": "code",
   "execution_count": 98,
   "metadata": {},
   "outputs": [],
   "source": [
    "def sist_lin_tri_inf(A,b):\n",
    "    n = len(b)\n",
    "    x = np.empty(n)\n",
    "    x[0] = b[-1]/A[0, 0]\n",
    "    for i in range(1,n):\n",
    "        x[i] = (b[i] - np.sum(A[i,:i]*x[:i]))/A[i,i]\n",
    "    return x"
   ]
  },
  {
   "cell_type": "code",
   "execution_count": 121,
   "metadata": {},
   "outputs": [],
   "source": [
    "def solu_geral(A,b):\n",
    "    s = True\n",
    "    inf = True\n",
    "    for i in range(len(np.diag(A4))-1):\n",
    "        aux = A4[i,i+1:]\n",
    "        print(aux)\n",
    "        print(np.array_equal(aux,np.zeros(aux.size)))\n",
    "        if(np.array_equal(aux,np.zeros(aux.size))!= True):\n",
    "           \n",
    "            s = False\n",
    "            break\n",
    "    if(s):\n",
    "        for i in range(len(np.diag(A4))-1):\n",
    "            aux = A4[i+1:,i]\n",
    "            if(np.array_equal(aux,np.zeros(aux.size))!= True):\n",
    "                inf = False\n",
    "                break\n",
    "    if(s and inf):\n",
    "        solu = sist_lin_diagonal(A,b)\n",
    "        return solu\n",
    "    elif(s):\n",
    "        print('suo')\n",
    "        solu = sist_lin_tri_sup(A,b)\n",
    "        return solu\n",
    "    else:\n",
    "        print('inf')\n",
    "        solu = sist_lin_tri_inf(A,b)\n",
    "        return solu"
   ]
  },
  {
   "cell_type": "code",
   "execution_count": 127,
   "metadata": {},
   "outputs": [],
   "source": [
    "\n",
    "A = np.diag([1,4,2])\n",
    "B = np.array([4, 2, 2])\n",
    "\n",
    "\n",
    "A1 = np.array([[3,0,0,0],\n",
    "               [2,1,0,0],\n",
    "               [1,0,1,0],\n",
    "               [1,1,1,1]])\n",
    "\n",
    "\n",
    "b1 = np.array([4,2,4,2])\n",
    "\n",
    "A2 = np.array([[3,4,-5,1],\n",
    "               [0,1,1,-2],\n",
    "               [0,0,4,-5],\n",
    "               [0,0,0,2]])\n",
    "B2 = np.array([-10,-1,3,2])                                                                   \n",
    "                                                                         \n"
   ]
  },
  {
   "cell_type": "code",
   "execution_count": 113,
   "metadata": {},
   "outputs": [
    {
     "name": "stdout",
     "output_type": "stream",
     "text": [
      "aqi\n",
      "inf\n"
     ]
    },
    {
     "data": {
      "text/plain": [
       "array([ 0.66666667,  0.66666667,  3.33333333, -2.66666667])"
      ]
     },
     "execution_count": 113,
     "metadata": {},
     "output_type": "execute_result"
    }
   ],
   "source": [
    "solu_geral(A1,b1)"
   ]
  },
  {
   "cell_type": "code",
   "execution_count": 125,
   "metadata": {},
   "outputs": [
    {
     "name": "stdout",
     "output_type": "stream",
     "text": [
      "[0 0 0]\n",
      "True\n",
      "[0 0]\n",
      "True\n",
      "[0]\n",
      "True\n",
      "suo\n"
     ]
    },
    {
     "data": {
      "text/plain": [
       "array([ 1., -1.,  2.,  1.])"
      ]
     },
     "execution_count": 125,
     "metadata": {},
     "output_type": "execute_result"
    }
   ],
   "source": [
    "solu_geral(A2,B2)"
   ]
  },
  {
   "cell_type": "code",
   "execution_count": 128,
   "metadata": {},
   "outputs": [
    {
     "name": "stdout",
     "output_type": "stream",
     "text": [
      "[0 0 0]\n",
      "True\n",
      "[0 0]\n",
      "True\n",
      "[0]\n",
      "True\n",
      "suo\n"
     ]
    },
    {
     "data": {
      "text/plain": [
       "array([4. , 0.5, 1. ])"
      ]
     },
     "execution_count": 128,
     "metadata": {},
     "output_type": "execute_result"
    }
   ],
   "source": [
    "solu_geral(A,B)"
   ]
  }
 ],
 "metadata": {
  "kernelspec": {
   "display_name": "Python 3",
   "language": "python",
   "name": "python3"
  },
  "language_info": {
   "codemirror_mode": {
    "name": "ipython",
    "version": 3
   },
   "file_extension": ".py",
   "mimetype": "text/x-python",
   "name": "python",
   "nbconvert_exporter": "python",
   "pygments_lexer": "ipython3",
   "version": "3.8.5"
  }
 },
 "nbformat": 4,
 "nbformat_minor": 4
}
