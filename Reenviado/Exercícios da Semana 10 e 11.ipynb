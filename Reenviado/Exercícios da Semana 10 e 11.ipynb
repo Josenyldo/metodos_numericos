{
  "nbformat": 4,
  "nbformat_minor": 0,
  "metadata": {
    "colab": {
      "name": "Exercícios da Semana 10 e 11.ipynb",
      "provenance": [],
      "collapsed_sections": []
    },
    "kernelspec": {
      "name": "python3",
      "display_name": "Python 3"
    },
    "language_info": {
      "name": "python"
    }
  },
  "cells": [
    {
      "cell_type": "code",
      "metadata": {
        "id": "Sa-QKwk9tAnk"
      },
      "source": [
        "import numpy as np"
      ],
      "execution_count": 9,
      "outputs": []
    },
    {
      "cell_type": "code",
      "metadata": {
        "id": "Z_79L1bVtHYX"
      },
      "source": [
        "def lu(A):\n",
        "    n = A.shape[0]\n",
        "    piv = np.arange(0,n)\n",
        "    U = A.copy()\n",
        "    for k in range(n-1):\n",
        "        ind_max_linha = np.argmax(abs(U[k:n,k])) + k\n",
        "        piv[[k,ind_max_linha]] = piv[[ind_max_linha,k]]\n",
        "        U[[k,ind_max_linha]] = U[[ind_max_linha,k]]\n",
        "        for i in range(k+1,n):          \n",
        "            U[i,k] = U[i,k]/U[k,k]      \n",
        "            for j in range(k+1,n):      \n",
        "                U[i,j] -= U[i,k]*U[k,j] \n",
        "\n",
        "    return [U,piv]\n",
        "\n",
        "def sist_lin_tri_inf(L,b):\n",
        "    for i in range(L.shape[0]): \n",
        "        for j in range(i):\n",
        "            b[i] -= L[i,j]*b[j]\n",
        "    return b\n",
        "\n",
        "def sist_lin_tri_sup(U,y):\n",
        "    for i in range(U.shape[0]-1,-1,-1): \n",
        "        for j in range(i+1, U.shape[1]):\n",
        "            y[i] -= U[i,j]*y[j]\n",
        "        y[i] = y[i]/U[i,i]\n",
        "    return y"
      ],
      "execution_count": 10,
      "outputs": []
    },
    {
      "cell_type": "markdown",
      "metadata": {
        "id": "lZHGLzkTtVf5"
      },
      "source": [
        "**Letra A**"
      ]
    },
    {
      "cell_type": "code",
      "metadata": {
        "colab": {
          "base_uri": "https://localhost:8080/"
        },
        "id": "RMwRZSWGtVom",
        "outputId": "0e0e3812-5c75-4695-8c6b-6e345d4f4370"
      },
      "source": [
        "A = np.array([[1, 1, 1], [4, 4, 2], [2, 1., -1]])\n",
        "b = np.array([1, 2, 0.])\n",
        "\n",
        "LU, piv = lu(A)                      \n",
        "b = b[piv]\n",
        "y = sist_lin_tri_inf( LU, b )\n",
        "x = sist_lin_tri_sup(  LU, y )\n",
        "x"
      ],
      "execution_count": 11,
      "outputs": [
        {
          "output_type": "execute_result",
          "data": {
            "text/plain": [
              "array([ 1., -1.,  1.])"
            ]
          },
          "metadata": {
            "tags": []
          },
          "execution_count": 11
        }
      ]
    },
    {
      "cell_type": "code",
      "metadata": {
        "colab": {
          "base_uri": "https://localhost:8080/"
        },
        "id": "Zi2GTMi84wp1",
        "outputId": "e2c2ea30-0d24-44ae-8dff-73d3025f808f"
      },
      "source": [
        "A@x"
      ],
      "execution_count": 12,
      "outputs": [
        {
          "output_type": "execute_result",
          "data": {
            "text/plain": [
              "array([1., 2., 0.])"
            ]
          },
          "metadata": {
            "tags": []
          },
          "execution_count": 12
        }
      ]
    },
    {
      "cell_type": "markdown",
      "metadata": {
        "id": "gED69OtJtV0M"
      },
      "source": [
        "**Letra B**"
      ]
    },
    {
      "cell_type": "code",
      "metadata": {
        "colab": {
          "base_uri": "https://localhost:8080/"
        },
        "id": "WyEc7TW7tV-Y",
        "outputId": "439b056d-5be5-40a9-95b8-18ee0e8c3268"
      },
      "source": [
        "A = np.array([[7, -7, 1], [-3, 3, 2], [7, 7., -72]])\n",
        "b = np.array([1, 2, 7.])\n",
        "\n",
        "LU, piv = lu(A)                      \n",
        "b = b[piv]\n",
        "y = sist_lin_tri_inf( LU, b )\n",
        "x = sist_lin_tri_sup(  LU, y )\n",
        "x"
      ],
      "execution_count": 13,
      "outputs": [
        {
          "output_type": "execute_result",
          "data": {
            "text/plain": [
              "array([5.64285714, 5.64285714, 1.        ])"
            ]
          },
          "metadata": {
            "tags": []
          },
          "execution_count": 13
        }
      ]
    },
    {
      "cell_type": "code",
      "metadata": {
        "colab": {
          "base_uri": "https://localhost:8080/"
        },
        "id": "5fYaFwGA43nQ",
        "outputId": "250a2595-d526-4e3c-ebc8-d87e4a76f51a"
      },
      "source": [
        "A@x"
      ],
      "execution_count": 14,
      "outputs": [
        {
          "output_type": "execute_result",
          "data": {
            "text/plain": [
              "array([1., 2., 7.])"
            ]
          },
          "metadata": {
            "tags": []
          },
          "execution_count": 14
        }
      ]
    },
    {
      "cell_type": "markdown",
      "metadata": {
        "id": "gEEFeTeJtWJW"
      },
      "source": [
        "**Letra C**"
      ]
    },
    {
      "cell_type": "code",
      "metadata": {
        "colab": {
          "base_uri": "https://localhost:8080/"
        },
        "id": "vHRqSfFOtWTA",
        "outputId": "471e87d2-69b6-4afb-d774-28c3b18095d1"
      },
      "source": [
        "A = np.array([[1, 2, 3, 4], [2, 2, 3, 4], [3, 3., 3, 4], [4, 4, 4, 4]])\n",
        "b = np.array([20, 22, 22., 24])\n",
        "\n",
        "LU, piv = lu(A)                      \n",
        "b = b[piv]\n",
        "y = sist_lin_tri_inf( LU, b )\n",
        "x = sist_lin_tri_sup(  LU, y )\n",
        "x"
      ],
      "execution_count": 15,
      "outputs": [
        {
          "output_type": "execute_result",
          "data": {
            "text/plain": [
              "array([ 2., -2.,  2.,  4.])"
            ]
          },
          "metadata": {
            "tags": []
          },
          "execution_count": 15
        }
      ]
    },
    {
      "cell_type": "code",
      "metadata": {
        "colab": {
          "base_uri": "https://localhost:8080/"
        },
        "id": "U9DYLmud48c_",
        "outputId": "1bb51749-4bd3-446c-f05d-4a7a53fd172c"
      },
      "source": [
        "A@x"
      ],
      "execution_count": 16,
      "outputs": [
        {
          "output_type": "execute_result",
          "data": {
            "text/plain": [
              "array([20., 22., 22., 24.])"
            ]
          },
          "metadata": {
            "tags": []
          },
          "execution_count": 16
        }
      ]
    }
  ]
}