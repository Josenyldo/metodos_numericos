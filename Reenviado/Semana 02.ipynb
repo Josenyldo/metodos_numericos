{
 "cells": [
  {
   "cell_type": "code",
   "execution_count": 1,
   "metadata": {},
   "outputs": [],
   "source": [
    "import numpy as np"
   ]
  },
  {
   "cell_type": "markdown",
   "metadata": {},
   "source": [
    "# 1.1"
   ]
  },
  {
   "cell_type": "code",
   "execution_count": 9,
   "metadata": {},
   "outputs": [],
   "source": [
    "def divisaoMedia(x):\n",
    "    #criando um vetor para a raizes \n",
    "    v = np.array([])  \n",
    "    xi = np.float64(x)\n",
    "    for i in range(10):\n",
    "        xi = (xi + x/xi) / 2\n",
    "        v = np.append(v, xi)\n",
    "        \n",
    "    return(xi, v)"
   ]
  },
  {
   "cell_type": "code",
   "execution_count": 12,
   "metadata": {},
   "outputs": [],
   "source": [
    "def printRaizMedia(xi, v):\n",
    "    for i in v:\n",
    "        # separar as informações\n",
    "        print()\n",
    "        print(\"Estimativa \", i)\n",
    "        print(\"Erro Relativo \", np.absolute((xi-i)/xi))"
   ]
  },
  {
   "cell_type": "code",
   "execution_count": 14,
   "metadata": {},
   "outputs": [
    {
     "name": "stdout",
     "output_type": "stream",
     "text": [
      "\n",
      "Estimativa: 41.0\n",
      "Erro Relativo: 3.5555555555555554\n",
      "\n",
      "Estimativa: 21.48780487804878\n",
      "Erro Relativo: 1.3875338753387534\n",
      "\n",
      "Estimativa: 12.628692450375128\n",
      "Erro Relativo: 0.4031880500416809\n",
      "\n",
      "Estimativa: 9.521329066772005\n",
      "Erro Relativo: 0.057925451863556056\n",
      "\n",
      "Estimativa: 9.014272376994608\n",
      "Erro Relativo: 0.0015858196660675599\n",
      "\n",
      "Estimativa: 9.000011298790216\n",
      "Erro Relativo: 1.2554211351477484e-06\n",
      "\n",
      "Estimativa: 9.000000000007091\n",
      "Erro Relativo: 7.879129447650889e-13\n",
      "\n",
      "Estimativa: 9.0\n",
      "Erro Relativo: 0.0\n",
      "\n",
      "Estimativa: 9.0\n",
      "Erro Relativo: 0.0\n",
      "\n",
      "Estimativa: 9.0\n",
      "Erro Relativo: 0.0\n"
     ]
    }
   ],
   "source": [
    "num = 81\n",
    "raiz, lista = divisaoMedia(num)\n",
    "printRaizMedia(raiz, lista)"
   ]
  },
  {
   "cell_type": "markdown",
   "metadata": {},
   "source": [
    "# 1.2"
   ]
  },
  {
   "cell_type": "code",
   "execution_count": 15,
   "metadata": {},
   "outputs": [],
   "source": [
    "def eps():\n",
    "    e =1\n",
    "    while ((e+1>1)) :\n",
    "        e = e/2\n",
    "    return e*2"
   ]
  },
  {
   "cell_type": "code",
   "execution_count": 17,
   "metadata": {},
   "outputs": [
    {
     "data": {
      "text/plain": [
       "True"
      ]
     },
     "execution_count": 17,
     "metadata": {},
     "output_type": "execute_result"
    }
   ],
   "source": [
    "eps() == np.finfo(float).eps"
   ]
  },
  {
   "cell_type": "markdown",
   "metadata": {},
   "source": [
    "# 1.3"
   ]
  },
  {
   "cell_type": "code",
   "execution_count": 6,
   "metadata": {},
   "outputs": [],
   "source": [
    "def serie(x):\n",
    "    i =0\n",
    "    while i < x:\n",
    "        if(i == 0):\n",
    "     \n",
    "            n = 1/3\n",
    "            print (n) \n",
    "        else:\n",
    "            n = 4*(1/3) -1\n",
    "            print(n)\n",
    "        i+=1"
   ]
  },
  {
   "cell_type": "code",
   "execution_count": 8,
   "metadata": {},
   "outputs": [
    {
     "name": "stdout",
     "output_type": "stream",
     "text": [
      "0.3333333333333333\n",
      "0.33333333333333326\n",
      "0.33333333333333326\n",
      "0.33333333333333326\n",
      "0.33333333333333326\n",
      "0.33333333333333326\n",
      "0.33333333333333326\n",
      "0.33333333333333326\n",
      "0.33333333333333326\n",
      "0.33333333333333326\n",
      "0.33333333333333326\n",
      "0.33333333333333326\n",
      "0.33333333333333326\n",
      "0.33333333333333326\n",
      "0.33333333333333326\n"
     ]
    }
   ],
   "source": [
    "serie(15)"
   ]
  },
  {
   "cell_type": "markdown",
   "metadata": {},
   "source": [
    "# 1.4"
   ]
  },
  {
   "cell_type": "code",
   "execution_count": 22,
   "metadata": {},
   "outputs": [],
   "source": [
    "u1 =0.1\n",
    "u2 = 0.01\n",
    "u3 = 0.001"
   ]
  },
  {
   "cell_type": "code",
   "execution_count": 21,
   "metadata": {},
   "outputs": [],
   "source": [
    "def expre_1(x):\n",
    "    expre = (np.exp(1/x))/(1+ np.exp(1/x))\n",
    "    return print (expre)"
   ]
  },
  {
   "cell_type": "code",
   "execution_count": 23,
   "metadata": {},
   "outputs": [],
   "source": [
    "def expre_2(x):\n",
    "    expre = 1/(np.exp(-1/x) +1)\n",
    "    return print(expre)"
   ]
  },
  {
   "cell_type": "markdown",
   "metadata": {},
   "source": [
    "# 1.5"
   ]
  },
  {
   "cell_type": "code",
   "execution_count": 26,
   "metadata": {},
   "outputs": [],
   "source": [
    "x1 = 10**(-12)\n",
    "x2 = 10**(-15)\n",
    "x3 = 10**(-17)"
   ]
  },
  {
   "cell_type": "code",
   "execution_count": 3,
   "metadata": {},
   "outputs": [],
   "source": [
    "def f(x):\n",
    "    exp = ((1 + x)-1)/x\n",
    "    return exp"
   ]
  },
  {
   "cell_type": "code",
   "execution_count": 27,
   "metadata": {},
   "outputs": [
    {
     "data": {
      "text/plain": [
       "'1.000088900582341e+00'"
      ]
     },
     "execution_count": 27,
     "metadata": {},
     "output_type": "execute_result"
    }
   ],
   "source": [
    "np.format_float_scientific(f(x1))"
   ]
  },
  {
   "cell_type": "code",
   "execution_count": 28,
   "metadata": {},
   "outputs": [
    {
     "data": {
      "text/plain": [
       "'1.1102230246251565e+00'"
      ]
     },
     "execution_count": 28,
     "metadata": {},
     "output_type": "execute_result"
    }
   ],
   "source": [
    "np.format_float_scientific(f(x2))"
   ]
  },
  {
   "cell_type": "code",
   "execution_count": 29,
   "metadata": {},
   "outputs": [
    {
     "data": {
      "text/plain": [
       "'0.e+00'"
      ]
     },
     "execution_count": 29,
     "metadata": {},
     "output_type": "execute_result"
    }
   ],
   "source": [
    "np.format_float_scientific(f(x3))"
   ]
  },
  {
   "cell_type": "code",
   "execution_count": null,
   "metadata": {},
   "outputs": [],
   "source": []
  }
 ],
 "metadata": {
  "kernelspec": {
   "display_name": "Python 3",
   "language": "python",
   "name": "python3"
  },
  "language_info": {
   "codemirror_mode": {
    "name": "ipython",
    "version": 3
   },
   "file_extension": ".py",
   "mimetype": "text/x-python",
   "name": "python",
   "nbconvert_exporter": "python",
   "pygments_lexer": "ipython3",
   "version": "3.8.5"
  }
 },
 "nbformat": 4,
 "nbformat_minor": 4
}
