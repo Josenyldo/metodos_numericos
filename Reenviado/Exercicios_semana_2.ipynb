{
 "cells": [
  {
   "cell_type": "code",
   "execution_count": 1,
   "metadata": {
    "id": "dQFX023gmXor"
   },
   "outputs": [],
   "source": [
    "import numpy as np"
   ]
  },
  {
   "cell_type": "markdown",
   "metadata": {
    "id": "wTJ8DqhwDYON"
   },
   "source": [
    "# **1)**"
   ]
  },
  {
   "cell_type": "code",
   "execution_count": 3,
   "metadata": {
    "id": "eYdRb2tXmf43"
   },
   "outputs": [],
   "source": [
    "def raiz_media(x):\n",
    "    vetor = np.array([])  \n",
    "    xi = np.float64(x)\n",
    "    for i in range(10):\n",
    "        xi = (xi + x/xi) / 2\n",
    "        vetor = np.append(vetor, xi)\n",
    "    return(xi, vetor)"
   ]
  },
  {
   "cell_type": "code",
   "execution_count": 4,
   "metadata": {
    "id": "HxcJitb0mil3"
   },
   "outputs": [],
   "source": [
    "def imprime(xi, vetor):\n",
    "    for i in vetor:\n",
    "        print()\n",
    "        print(\"Estimativa:\", i)\n",
    "        print(\"Erro Relativo:\", np.absolute((xi-i)/xi))"
   ]
  },
  {
   "cell_type": "code",
   "execution_count": 5,
   "metadata": {
    "colab": {
     "base_uri": "https://localhost:8080/"
    },
    "id": "ZliPUkarmkfp",
    "outputId": "3841eaf3-97e1-4b55-860d-a6226300c57a"
   },
   "outputs": [
    {
     "name": "stdout",
     "output_type": "stream",
     "text": [
      "\n",
      "Estimativa: 13.0\n",
      "Erro Relativo: 1.6\n",
      "\n",
      "Estimativa: 7.461538461538462\n",
      "Erro Relativo: 0.49230769230769234\n",
      "\n",
      "Estimativa: 5.406026962727994\n",
      "Erro Relativo: 0.0812053925455988\n",
      "\n",
      "Estimativa: 5.015247601944898\n",
      "Erro Relativo: 0.0030495203889795873\n",
      "\n",
      "Estimativa: 5.000023178253949\n",
      "Erro Relativo: 4.63565078980821e-06\n",
      "\n",
      "Estimativa: 5.000000000053722\n",
      "Erro Relativo: 1.0744471978796356e-11\n",
      "\n",
      "Estimativa: 5.0\n",
      "Erro Relativo: 0.0\n",
      "\n",
      "Estimativa: 5.0\n",
      "Erro Relativo: 0.0\n",
      "\n",
      "Estimativa: 5.0\n",
      "Erro Relativo: 0.0\n",
      "\n",
      "Estimativa: 5.0\n",
      "Erro Relativo: 0.0\n"
     ]
    }
   ],
   "source": [
    "num = 25\n",
    "raiz, lista = raiz_media(num)\n",
    "imprime(raiz, lista)"
   ]
  },
  {
   "cell_type": "markdown",
   "metadata": {
    "id": "oz2rtQcGDjDp"
   },
   "source": [
    "# **2)**"
   ]
  },
  {
   "cell_type": "code",
   "execution_count": 6,
   "metadata": {
    "id": "ySibi2gTmoMK"
   },
   "outputs": [],
   "source": [
    "def epsilon():\n",
    "    e =1\n",
    "    while ((e+1>1)) :\n",
    "        e = e/2\n",
    "    return e*2"
   ]
  },
  {
   "cell_type": "code",
   "execution_count": 7,
   "metadata": {
    "colab": {
     "base_uri": "https://localhost:8080/"
    },
    "id": "DIexQVd6moVd",
    "outputId": "d9afdf73-1414-446f-95f7-edb8bab224ee"
   },
   "outputs": [
    {
     "data": {
      "text/plain": [
       "True"
      ]
     },
     "execution_count": 7,
     "metadata": {
      "tags": []
     },
     "output_type": "execute_result"
    }
   ],
   "source": [
    "epsilon() == np.finfo(float).eps"
   ]
  },
  {
   "cell_type": "markdown",
   "metadata": {
    "id": "0vmNn0jJDuCK"
   },
   "source": [
    "# **3)**"
   ]
  },
  {
   "cell_type": "code",
   "execution_count": 8,
   "metadata": {
    "id": "dk17tKaFm0Sm"
   },
   "outputs": [],
   "source": [
    "def serie(x):\n",
    "    i =0\n",
    "    while i < x:\n",
    "        if(i == 0):\n",
    "            n = 1/3\n",
    "            print (n) \n",
    "        else:\n",
    "            n = 4*(1/3) -1\n",
    "            print(n)\n",
    "        i+=1"
   ]
  },
  {
   "cell_type": "code",
   "execution_count": 9,
   "metadata": {
    "colab": {
     "base_uri": "https://localhost:8080/"
    },
    "id": "7JczBfZSm2l2",
    "outputId": "c99222ef-e77f-4b92-9ba0-a2262f0598ad"
   },
   "outputs": [
    {
     "name": "stdout",
     "output_type": "stream",
     "text": [
      "0.3333333333333333\n",
      "0.33333333333333326\n",
      "0.33333333333333326\n",
      "0.33333333333333326\n",
      "0.33333333333333326\n",
      "0.33333333333333326\n",
      "0.33333333333333326\n",
      "0.33333333333333326\n",
      "0.33333333333333326\n",
      "0.33333333333333326\n"
     ]
    }
   ],
   "source": [
    "serie(10)"
   ]
  },
  {
   "cell_type": "markdown",
   "metadata": {
    "id": "yhLuiVC0Dyk0"
   },
   "source": [
    "# **4)**"
   ]
  },
  {
   "cell_type": "code",
   "execution_count": 10,
   "metadata": {
    "id": "1t5ur5dQm6bQ"
   },
   "outputs": [],
   "source": [
    "u1 =0.1\n",
    "u2 = 0.01\n",
    "u3 = 0.001"
   ]
  },
  {
   "cell_type": "code",
   "execution_count": 11,
   "metadata": {
    "id": "rPL6G9mHm8e5"
   },
   "outputs": [],
   "source": [
    "def expre_1(x):\n",
    "    expre = (np.exp(1/x))/(1+ np.exp(1/x))\n",
    "    return print (expre)"
   ]
  },
  {
   "cell_type": "code",
   "execution_count": 12,
   "metadata": {
    "id": "hAwy7ntrm9_n"
   },
   "outputs": [],
   "source": [
    "def expre_2(x):\n",
    "    expre = 1/(np.exp(-1/x) +1)\n",
    "    return print(expre)"
   ]
  },
  {
   "cell_type": "code",
   "execution_count": 15,
   "metadata": {
    "colab": {
     "base_uri": "https://localhost:8080/"
    },
    "id": "owU8pZGxnARu",
    "outputId": "28380226-07a7-45ec-ad71-84d35681225d"
   },
   "outputs": [
    {
     "name": "stdout",
     "output_type": "stream",
     "text": [
      "0.9999546021312976\n"
     ]
    }
   ],
   "source": [
    "expre_1(u1)"
   ]
  },
  {
   "cell_type": "code",
   "execution_count": 16,
   "metadata": {
    "colab": {
     "base_uri": "https://localhost:8080/"
    },
    "id": "c1fMswACnBu4",
    "outputId": "730ac647-5b47-46ba-e5d4-594d79d5b398"
   },
   "outputs": [
    {
     "name": "stdout",
     "output_type": "stream",
     "text": [
      "1.0\n"
     ]
    }
   ],
   "source": [
    "expre_1(u2)"
   ]
  },
  {
   "cell_type": "code",
   "execution_count": 17,
   "metadata": {
    "colab": {
     "base_uri": "https://localhost:8080/"
    },
    "id": "qV-xRFOPnCDh",
    "outputId": "4c667665-3e45-4920-bbf8-918704d199ee"
   },
   "outputs": [
    {
     "name": "stdout",
     "output_type": "stream",
     "text": [
      "nan\n"
     ]
    },
    {
     "name": "stderr",
     "output_type": "stream",
     "text": [
      "/usr/local/lib/python3.7/dist-packages/ipykernel_launcher.py:2: RuntimeWarning: overflow encountered in exp\n",
      "  \n",
      "/usr/local/lib/python3.7/dist-packages/ipykernel_launcher.py:2: RuntimeWarning: invalid value encountered in double_scalars\n",
      "  \n"
     ]
    }
   ],
   "source": [
    "expre_1(u3)"
   ]
  },
  {
   "cell_type": "code",
   "execution_count": 18,
   "metadata": {
    "colab": {
     "base_uri": "https://localhost:8080/"
    },
    "id": "Id5YVlTjnJJ_",
    "outputId": "327540bd-f471-4c06-f796-b9b9f74afec1"
   },
   "outputs": [
    {
     "name": "stdout",
     "output_type": "stream",
     "text": [
      "0.9999546021312976\n"
     ]
    }
   ],
   "source": [
    "expre_2(u1)"
   ]
  },
  {
   "cell_type": "code",
   "execution_count": 19,
   "metadata": {
    "colab": {
     "base_uri": "https://localhost:8080/"
    },
    "id": "bfpcwacgnJPm",
    "outputId": "c104f5c2-1992-4a91-e3b2-6131d28c756d"
   },
   "outputs": [
    {
     "name": "stdout",
     "output_type": "stream",
     "text": [
      "1.0\n"
     ]
    }
   ],
   "source": [
    "expre_2(u2)"
   ]
  },
  {
   "cell_type": "code",
   "execution_count": 20,
   "metadata": {
    "colab": {
     "base_uri": "https://localhost:8080/"
    },
    "id": "wAxnPW78nJay",
    "outputId": "b44ab84f-8595-4eb5-efa4-4bb21c84a8b0"
   },
   "outputs": [
    {
     "name": "stdout",
     "output_type": "stream",
     "text": [
      "1.0\n"
     ]
    }
   ],
   "source": [
    "expre_2(u3)"
   ]
  },
  {
   "cell_type": "markdown",
   "metadata": {
    "id": "Vqf-e-hhD3lO"
   },
   "source": [
    "# **5)**"
   ]
  },
  {
   "cell_type": "code",
   "execution_count": null,
   "metadata": {
    "id": "KCDAyDafnSj4"
   },
   "outputs": [],
   "source": [
    "x1 = 10**(-12)\n",
    "x2 = 10**(-15)\n",
    "x3 = 10**(-17)"
   ]
  },
  {
   "cell_type": "code",
   "execution_count": null,
   "metadata": {
    "id": "C0NN0yMjnSvW"
   },
   "outputs": [],
   "source": [
    "def f(x):\n",
    "    expre = ((1 + x)-1)/x\n",
    "    return expre"
   ]
  },
  {
   "cell_type": "code",
   "execution_count": null,
   "metadata": {
    "colab": {
     "base_uri": "https://localhost:8080/",
     "height": 35
    },
    "id": "0YdxyG9MnTAt",
    "outputId": "0a3cae92-6fee-47f3-d425-f840e60134d6"
   },
   "outputs": [
    {
     "data": {
      "application/vnd.google.colaboratory.intrinsic+json": {
       "type": "string"
      },
      "text/plain": [
       "'1.000088900582341e+00'"
      ]
     },
     "execution_count": 56,
     "metadata": {
      "tags": []
     },
     "output_type": "execute_result"
    }
   ],
   "source": [
    "np.format_float_scientific(f(x1))"
   ]
  },
  {
   "cell_type": "code",
   "execution_count": null,
   "metadata": {
    "colab": {
     "base_uri": "https://localhost:8080/",
     "height": 35
    },
    "id": "T3aSECIfnXMT",
    "outputId": "1828e8c7-2757-40b1-b7d7-2d62753473ff"
   },
   "outputs": [
    {
     "data": {
      "application/vnd.google.colaboratory.intrinsic+json": {
       "type": "string"
      },
      "text/plain": [
       "'1.1102230246251565e+00'"
      ]
     },
     "execution_count": 57,
     "metadata": {
      "tags": []
     },
     "output_type": "execute_result"
    }
   ],
   "source": [
    "np.format_float_scientific(f(x2))"
   ]
  },
  {
   "cell_type": "code",
   "execution_count": null,
   "metadata": {
    "colab": {
     "base_uri": "https://localhost:8080/",
     "height": 35
    },
    "id": "Jr2ztvZ2nZ7i",
    "outputId": "5a997862-b98f-4959-b554-50e9338af203"
   },
   "outputs": [
    {
     "data": {
      "application/vnd.google.colaboratory.intrinsic+json": {
       "type": "string"
      },
      "text/plain": [
       "'0.e+00'"
      ]
     },
     "execution_count": 58,
     "metadata": {
      "tags": []
     },
     "output_type": "execute_result"
    }
   ],
   "source": [
    "np.format_float_scientific(f(x3))"
   ]
  }
 ],
 "metadata": {
  "colab": {
   "collapsed_sections": [],
   "name": "Exercicios_semana_2.ipynb",
   "provenance": []
  },
  "kernelspec": {
   "display_name": "Python 3",
   "language": "python",
   "name": "python3"
  },
  "language_info": {
   "codemirror_mode": {
    "name": "ipython",
    "version": 3
   },
   "file_extension": ".py",
   "mimetype": "text/x-python",
   "name": "python",
   "nbconvert_exporter": "python",
   "pygments_lexer": "ipython3",
   "version": "3.8.5"
  }
 },
 "nbformat": 4,
 "nbformat_minor": 1
}
