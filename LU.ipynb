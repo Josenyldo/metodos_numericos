{
 "cells": [
  {
   "cell_type": "code",
   "execution_count": 2,
   "metadata": {},
   "outputs": [],
   "source": [
    "import numpy as np"
   ]
  },
  {
   "cell_type": "code",
   "execution_count": 7,
   "metadata": {},
   "outputs": [],
   "source": [
    "A = np.array([[1,1,1],[4,4,2],[2,1,-1]])\n",
    "a = np.array([1,2,0])"
   ]
  },
  {
   "cell_type": "code",
   "execution_count": 8,
   "metadata": {},
   "outputs": [],
   "source": [
    "B = np.array([[7,-7,1],[-3,3,2],[7,7,-72]])\n",
    "b = np.array([1,2,7])"
   ]
  },
  {
   "cell_type": "code",
   "execution_count": 10,
   "metadata": {},
   "outputs": [],
   "source": [
    "C = np.array([[1,2,3,4],[2,2,3,4],[3,3,3,4],[4,4,4,4]])\n",
    "c = np.array([20,22,22,24])"
   ]
  },
  {
   "cell_type": "code",
   "execution_count": 13,
   "metadata": {},
   "outputs": [],
   "source": [
    "def plu(a,b):\n",
    "    \n",
    "    A = np.c_[a,b]\n",
    "    #Get the number of rows\n",
    "    n = A.shape[0]\n",
    "    \n",
    "    #Allocate space for P, L, and U\n",
    "    U = A.copy()\n",
    "    L = np.eye(n, dtype=np.double)\n",
    "    P = np.eye(n, dtype=np.double)\n",
    "    \n",
    "    #Loop over rows\n",
    "    for i in range(n):\n",
    "        \n",
    "        #Permute rows if needed\n",
    "        for k in range(i, n): \n",
    "            if ~np.isclose(U[i, i], 0.0):\n",
    "                break\n",
    "            U[[k, k+1]] = U[[k+1, k]]\n",
    "            P[[k, k+1]] = P[[k+1, k]]\n",
    "            \n",
    "        #Eliminate entries below i with row \n",
    "        #operations on U and #reverse the row \n",
    "        #operations to manipulate L\n",
    "        factor = U[i+1:, i] / U[i, i]\n",
    "        L[i+1:, i] = factor\n",
    "        U[i+1:] -= factor[:, np.newaxis] * U[i]\n",
    "        \n",
    "    return P, L, U"
   ]
  },
  {
   "cell_type": "code",
   "execution_count": 17,
   "metadata": {},
   "outputs": [],
   "source": [
    "def LU(A ):\n",
    "    #passo 1\n",
    "    n = len(A)\n",
    "    U = A\n",
    "    P = np.identity(n) \n",
    "    L = np.identity(n) \n",
    "    print('-'*20+' Passo 1 '+'-'*20,'\\n')\n",
    "    print(\"P = \\n\",P,'\\n\\n',\"L = \\n\",L,'\\n\\n',\"U = \\n\",U,'\\n\\n')\n",
    "    #passo 2\n",
    "    for j in range(n-1):\n",
    "        x = np.abs(U[j:,j])\n",
    "        if x.max() > U[j,j]:\n",
    "            p = x.argmax() + j\n",
    "            U[[j,p]] = U[[p,j]]\n",
    "            P[[j,p]] = P[[p,j]]\n",
    "        print('-'*20+' Passo 2: j =',j,'-'*20,'\\n')\n",
    "        print(\"P = \\n\",P,'\\n\\n',\"L = \\n\",L,'\\n\\n',\"U = \\n\",U,'\\n\\n')\n",
    "    #passo 3\n",
    "        for i in range(j+1,n):\n",
    "            L[i,j] = U[i,j]/U[j,j]\n",
    "            U[i] = U[i] - L[i,j]*U[j]\n",
    "    return P,L,U"
   ]
  },
  {
   "cell_type": "code",
   "execution_count": 2,
   "metadata": {},
   "outputs": [],
   "source": [
    "def lu(A):\n",
    "   tamanho_matriz = len(A)\n",
    "    piv = np.arange(0,tamanho_matriz)\n",
    "    U = A.copy()\n",
    "    for k in range(n-1):\n",
    "        ind_max_linha = np.argmax(abs(U[k:n,k])) + k\n",
    "        piv[[k,ind_max_linha]] = piv[[ind_max_linha,k]]\n",
    "        U[[k,ind_max_linha]] = U[[ind_max_linha,k]]\n",
    "        for i in range(k+1,n):          \n",
    "            U[i,k] = U[i,k]/U[k,k]      \n",
    "            for j in range(k+1,n):      \n",
    "                U[i,j] -= U[i,k]*U[k,j] \n",
    "\n",
    "    return [U,piv]\n",
    "\n",
    "def sist_lin_tri_inf(L,b):\n",
    "    for i in range(L.shape[0]): \n",
    "        for j in range(i):\n",
    "            b[i] -= L[i,j]*b[j]\n",
    "    return b\n",
    "\n",
    "def sist_lin_tri_sup(U,y):\n",
    "    for i in range(U.shape[0]-1,-1,-1): \n",
    "        for j in range(i+1, U.shape[1]):\n",
    "            y[i] -= U[i,j]*y[j]\n",
    "        y[i] = y[i]/U[i,i]\n",
    "    return y"
   ]
  },
  {
   "cell_type": "code",
   "execution_count": null,
   "metadata": {},
   "outputs": [],
   "source": []
  }
 ],
 "metadata": {
  "kernelspec": {
   "display_name": "Python 3",
   "language": "python",
   "name": "python3"
  },
  "language_info": {
   "codemirror_mode": {
    "name": "ipython",
    "version": 3
   },
   "file_extension": ".py",
   "mimetype": "text/x-python",
   "name": "python",
   "nbconvert_exporter": "python",
   "pygments_lexer": "ipython3",
   "version": "3.8.5"
  }
 },
 "nbformat": 4,
 "nbformat_minor": 4
}
