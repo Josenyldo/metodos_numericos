{
 "cells": [
  {
   "cell_type": "code",
   "execution_count": 24,
   "metadata": {},
   "outputs": [],
   "source": [
    "import scipy.optimize as opt\n",
    "import numpy as np\n",
    "from sympy import *"
   ]
  },
  {
   "cell_type": "markdown",
   "metadata": {},
   "source": [
    "Assumindo que já foi feita a deriada da função\n",
    "a, b, x by xn−1,xn+1,xn"
   ]
  },
  {
   "cell_type": "markdown",
   "metadata": {},
   "source": [
    "# Funções"
   ]
  },
  {
   "cell_type": "code",
   "execution_count": 174,
   "metadata": {},
   "outputs": [],
   "source": [
    "def f(x): return x*np.exp(x)\n",
    "def g(x): return 1 -x**2\n",
    "def h(x): return np.exp(x)-x-2"
   ]
  },
  {
   "cell_type": "markdown",
   "metadata": {},
   "source": [
    "# Derivadas das funções"
   ]
  },
  {
   "cell_type": "code",
   "execution_count": 175,
   "metadata": {},
   "outputs": [],
   "source": [
    "def fd(x): return np.exp(x)+x*np.exp(x)\n",
    "def gd(x): return -2*x\n",
    "def hd(x): return np.exp(x) -1"
   ]
  },
  {
   "cell_type": "markdown",
   "metadata": {},
   "source": [
    "# Métodos"
   ]
  },
  {
   "cell_type": "code",
   "execution_count": 199,
   "metadata": {},
   "outputs": [],
   "source": [
    "def metodoArtigo(f,fd,a,b,ni):\n",
    "    while(True):\n",
    "        xn = ((a*f(b)-b*f(a))/(2*(f(b)-f(a))))+((a-(f(a)/fd(a)))/2)\n",
    "        if(xn*f(a) < 0):\n",
    "            if(np.abs(f(a))<np.abs(f(xn))):\n",
    "                aux = xn\n",
    "                xn = a\n",
    "                a = aux\n",
    "        elif(xn*f(b) < 0):\n",
    "            if(np.abs(f(xn))< np.abs(f(b))):\n",
    "                b = xn\n",
    "        \n",
    "        \n",
    "        ni -=1\n",
    "        if(ni == 0):\n",
    "            return xn\n"
   ]
  },
  {
   "cell_type": "code",
   "execution_count": 181,
   "metadata": {},
   "outputs": [],
   "source": [
    "def abicecao(f,a,b,ni):\n",
    "    xn = opt.root_scalar(f,method='bisect',bracket=[a,b]).root\n",
    "    return xn"
   ]
  },
  {
   "cell_type": "code",
   "execution_count": 80,
   "metadata": {},
   "outputs": [],
   "source": [
    "def newton(f,fd,a,ni):\n",
    "    xn = opt.root_scalar(f1, fprime=f2, x0=0,maxiter=ni,method='newton')\n",
    "    return xn"
   ]
  },
  {
   "cell_type": "code",
   "execution_count": 81,
   "metadata": {},
   "outputs": [],
   "source": [
    "def secante(f,a,b,ni):\n",
    "    return opt.root_scalar(f, x0=a, x1 = b,maxiter=ni,method='secant')"
   ]
  },
  {
   "cell_type": "markdown",
   "metadata": {},
   "source": [
    "# Testes"
   ]
  },
  {
   "cell_type": "code",
   "execution_count": 189,
   "metadata": {},
   "outputs": [],
   "source": [
    "(a,b) = 0,2\n",
    "ni = 3"
   ]
  },
  {
   "cell_type": "code",
   "execution_count": 201,
   "metadata": {},
   "outputs": [
    {
     "data": {
      "text/plain": [
       "-1.8025382566030494"
      ]
     },
     "execution_count": 201,
     "metadata": {},
     "output_type": "execute_result"
    }
   ],
   "source": [
    "metodoArtigo(h,hd,-2,0,ni)"
   ]
  },
  {
   "cell_type": "code",
   "execution_count": 187,
   "metadata": {},
   "outputs": [
    {
     "data": {
      "text/plain": [
       "-1.8414056604360667"
      ]
     },
     "execution_count": 187,
     "metadata": {},
     "output_type": "execute_result"
    }
   ],
   "source": [
    "abicecao(h,0,-2,ni)"
   ]
  },
  {
   "cell_type": "code",
   "execution_count": null,
   "metadata": {},
   "outputs": [],
   "source": []
  },
  {
   "cell_type": "code",
   "execution_count": 61,
   "metadata": {},
   "outputs": [
    {
     "name": "stdout",
     "output_type": "stream",
     "text": [
      "-2.5091035326788567\n"
     ]
    }
   ],
   "source": []
  },
  {
   "cell_type": "code",
   "execution_count": null,
   "metadata": {},
   "outputs": [],
   "source": []
  }
 ],
 "metadata": {
  "kernelspec": {
   "display_name": "Python 3",
   "language": "python",
   "name": "python3"
  },
  "language_info": {
   "codemirror_mode": {
    "name": "ipython",
    "version": 3
   },
   "file_extension": ".py",
   "mimetype": "text/x-python",
   "name": "python",
   "nbconvert_exporter": "python",
   "pygments_lexer": "ipython3",
   "version": "3.8.5"
  }
 },
 "nbformat": 4,
 "nbformat_minor": 4
}
