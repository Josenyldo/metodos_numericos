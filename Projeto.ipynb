{
 "cells": [
  {
   "cell_type": "code",
   "execution_count": 4,
   "metadata": {},
   "outputs": [],
   "source": [
    "import scipy.optimize as opt\n",
    "import numpy as np\n",
    "from sympy import *"
   ]
  },
  {
   "cell_type": "markdown",
   "metadata": {},
   "source": [
    "Assumindo que já foi feita a deriada da função\n",
    "a, b, x by xn−1,xn+1,xn\n",
    "xlog10(x)−1.2=0."
   ]
  },
  {
   "cell_type": "markdown",
   "metadata": {},
   "source": [
    "# Funções"
   ]
  },
  {
   "cell_type": "code",
   "execution_count": 5,
   "metadata": {},
   "outputs": [],
   "source": [
    "def f(x): return x*np.exp(x)\n",
    "def g(x): return 1 -x**2\n",
    "def h(x): return np.exp(x)-x-2\n",
    "def j(x): return np.log10(x) - 1.2"
   ]
  },
  {
   "cell_type": "markdown",
   "metadata": {},
   "source": [
    "# Derivadas das funções"
   ]
  },
  {
   "cell_type": "code",
   "execution_count": 6,
   "metadata": {},
   "outputs": [],
   "source": [
    "def fd(x): return np.exp(x)+x*np.exp(x)\n",
    "def gd(x): return -2*x\n",
    "def hd(x): return np.exp(x) -1\n",
    "def jd(x): return 1/np.log(10)*x"
   ]
  },
  {
   "cell_type": "markdown",
   "metadata": {},
   "source": [
    "# Métodos"
   ]
  },
  {
   "cell_type": "code",
   "execution_count": 89,
   "metadata": {},
   "outputs": [],
   "source": [
    "def metodoArtigo(f,fd,a,b,ni):\n",
    "    while(True):\n",
    "        xn = ((a*f(b)-b*f(a))/(2*(f(b)-f(a))))+((a-(f(a)/fd(a)))/2)\n",
    "        if(xn*f(a) < 0):\n",
    "            if(np.abs(f(a))< np.abs(f(xn))):\n",
    "                aux = xn\n",
    "                xn = a\n",
    "                a = aux\n",
    "            else:\n",
    "                b = a\n",
    "                a = xn\n",
    "        elif(xn*f(b) < 0):\n",
    "            if(np.abs(f(xn))< np.abs(f(b))):\n",
    "                b = xn\n",
    "            else:\n",
    "                a = xn    \n",
    "        ni -=1\n",
    "        if(ni == 0):\n",
    "            return xn\n"
   ]
  },
  {
   "cell_type": "code",
   "execution_count": 85,
   "metadata": {},
   "outputs": [],
   "source": [
    "def metodoArtigoTeste(f,fd,a,b,ni):\n",
    "    while(True):\n",
    "        xn = ((a*f(b)-b*f(a))/(2*(f(b)-f(a))))+((a-(f(a)/fd(a)))/2)\n",
    "        if(xn*f(a) < 0):\n",
    "            if(np.abs(f(a))< np.abs(f(xn))):\n",
    "                xn = xn\n",
    "            else:\n",
    "                b = a\n",
    "                a = xn\n",
    "        elif(xn*f(a) > 0):\n",
    "            if(np.abs(f(xn))< np.abs(f(b))):\n",
    "                a = xn\n",
    "            else:\n",
    "                a = b\n",
    "                b =xn\n",
    "        \n",
    "        \n",
    "        ni -=1\n",
    "        if(ni == 0):\n",
    "            return xn\n",
    "\n"
   ]
  },
  {
   "cell_type": "code",
   "execution_count": 129,
   "metadata": {},
   "outputs": [],
   "source": [
    "def bisect(f,a,b,ni):\n",
    "    return opt.root_scalar(f,method='bisect',bracket=[a,b]).root"
   ]
  },
  {
   "cell_type": "code",
   "execution_count": 103,
   "metadata": {},
   "outputs": [],
   "source": [
    "def newton(f,fd,a,ni):\n",
    "    return opt.root_scalar(f, fprime=fd, x0=a,maxiter=ni,method='newton').root"
   ]
  },
  {
   "cell_type": "code",
   "execution_count": 49,
   "metadata": {},
   "outputs": [],
   "source": [
    "def secante(f,a,b,ni):\n",
    "    return opt.root_scalar(f, x0=a, x1 = b,maxiter=ni,method='secant').root"
   ]
  },
  {
   "cell_type": "code",
   "execution_count": 137,
   "metadata": {},
   "outputs": [],
   "source": [
    "def falsa_pos(f,a,b,ni):\n",
    "    xn = a - f(a)*(b-a)/(f(b)-f(a))\n",
    "    while ni != 0:\n",
    "        if (f(a)*f(xn)>0): a=xn\n",
    "        else : b=xn\n",
    "        xn=a - f(a)*(b-a)/(f(b)-f(a))\n",
    "        ni -=1\n",
    "    return xn\n",
    "\n",
    "    "
   ]
  },
  {
   "cell_type": "markdown",
   "metadata": {},
   "source": [
    "# Testes"
   ]
  },
  {
   "cell_type": "markdown",
   "metadata": {},
   "source": [
    "# Tabela 1"
   ]
  },
  {
   "cell_type": "code",
   "execution_count": 1,
   "metadata": {},
   "outputs": [
    {
     "ename": "NameError",
     "evalue": "name 'raizbiss' is not defined",
     "output_type": "error",
     "traceback": [
      "\u001b[0;31m---------------------------------------------------------------------------\u001b[0m",
      "\u001b[0;31mNameError\u001b[0m                                 Traceback (most recent call last)",
      "\u001b[0;32m<ipython-input-1-0a758d81ee55>\u001b[0m in \u001b[0;36m<module>\u001b[0;34m\u001b[0m\n\u001b[1;32m      1\u001b[0m \u001b[0;32mimport\u001b[0m \u001b[0mpandas\u001b[0m \u001b[0;32mas\u001b[0m \u001b[0mpd\u001b[0m\u001b[0;34m\u001b[0m\u001b[0;34m\u001b[0m\u001b[0m\n\u001b[0;32m----> 2\u001b[0;31m \u001b[0mprint\u001b[0m\u001b[0;34m(\u001b[0m\u001b[0mpd\u001b[0m\u001b[0;34m.\u001b[0m\u001b[0mDataFrame\u001b[0m\u001b[0;34m(\u001b[0m\u001b[0;34m{\u001b[0m\u001b[0;34m'Iterações'\u001b[0m\u001b[0;34m:\u001b[0m\u001b[0mrange\u001b[0m\u001b[0;34m(\u001b[0m\u001b[0;36m1\u001b[0m\u001b[0;34m,\u001b[0m\u001b[0;36m4\u001b[0m\u001b[0;34m)\u001b[0m\u001b[0;34m,\u001b[0m\u001b[0;34m'Raiz Bisect'\u001b[0m\u001b[0;34m:\u001b[0m \u001b[0mraizbiss\u001b[0m\u001b[0;34m,\u001b[0m\u001b[0;34m'Erro Bisect'\u001b[0m\u001b[0;34m:\u001b[0m\u001b[0merrRelbiss\u001b[0m\u001b[0;34m,\u001b[0m\u001b[0;34m'Raiz Newton'\u001b[0m\u001b[0;34m:\u001b[0m \u001b[0mraizNewton\u001b[0m\u001b[0;34m,\u001b[0m\u001b[0;34m'Erro Newton'\u001b[0m\u001b[0;34m:\u001b[0m\u001b[0merrRelNewton\u001b[0m\u001b[0;34m,\u001b[0m\u001b[0;34m'Raiz Bisect'\u001b[0m\u001b[0;34m:\u001b[0m \u001b[0mraizSecante\u001b[0m\u001b[0;34m,\u001b[0m\u001b[0;34m'Erro Secante'\u001b[0m\u001b[0;34m:\u001b[0m\u001b[0merrRelSecante\u001b[0m\u001b[0;34m,\u001b[0m\u001b[0;34m'Raiz Novo Método'\u001b[0m\u001b[0;34m:\u001b[0m \u001b[0mraizNovoMet\u001b[0m\u001b[0;34m,\u001b[0m\u001b[0;34m'Erro Novo método'\u001b[0m\u001b[0;34m:\u001b[0m\u001b[0merrRelNovoMet\u001b[0m\u001b[0;34m,\u001b[0m\u001b[0;34m'Raiz Falsa Posição'\u001b[0m\u001b[0;34m:\u001b[0m \u001b[0mraizFalsaPos\u001b[0m\u001b[0;34m,\u001b[0m\u001b[0;34m'Erro Falsa Posição'\u001b[0m\u001b[0;34m:\u001b[0m\u001b[0merrRelFalsaPos\u001b[0m\u001b[0;34m}\u001b[0m\u001b[0;34m)\u001b[0m\u001b[0;34m.\u001b[0m\u001b[0mset_index\u001b[0m\u001b[0;34m(\u001b[0m\u001b[0;34m'Iterações'\u001b[0m\u001b[0;34m)\u001b[0m\u001b[0;34m)\u001b[0m\u001b[0;34m\u001b[0m\u001b[0;34m\u001b[0m\u001b[0m\n\u001b[0m",
      "\u001b[0;31mNameError\u001b[0m: name 'raizbiss' is not defined"
     ]
    }
   ],
   "source": [
    "import pandas as pd\n",
    "print(pd.DataFrame({'Iterações':range(1,4),'Raiz Bisect': raizbiss,'Erro Bisect':errRelbiss,'Raiz Newton': raizNewton,'Erro Newton':errRelNewton,'Raiz Bisect': raizSecante,'Erro Secante':errRelSecante,'Raiz Novo Método': raizNovoMet,'Erro Novo método':errRelNovoMet,'Raiz Falsa Posição': raizFalsaPos,'Erro Falsa Posição':errRelFalsaPos}).set_index('Iterações'))"
   ]
  },
  {
   "cell_type": "code",
   "execution_count": null,
   "metadata": {},
   "outputs": [],
   "source": []
  }
 ],
 "metadata": {
  "kernelspec": {
   "display_name": "Python 3",
   "language": "python",
   "name": "python3"
  },
  "language_info": {
   "codemirror_mode": {
    "name": "ipython",
    "version": 3
   },
   "file_extension": ".py",
   "mimetype": "text/x-python",
   "name": "python",
   "nbconvert_exporter": "python",
   "pygments_lexer": "ipython3",
   "version": "3.8.5"
  }
 },
 "nbformat": 4,
 "nbformat_minor": 4
}
