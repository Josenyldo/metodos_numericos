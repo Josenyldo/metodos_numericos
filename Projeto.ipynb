{
 "cells": [
  {
   "cell_type": "code",
   "execution_count": 4,
   "metadata": {},
   "outputs": [],
   "source": [
    "import scipy.optimize as opt\n",
    "import numpy as np\n",
    "from sympy import *"
   ]
  },
  {
   "cell_type": "markdown",
   "metadata": {},
   "source": [
    "Assumindo que já foi feita a deriada da função\n",
    "a, b, x by xn−1,xn+1,xn\n",
    "xlog10(x)−1.2=0."
   ]
  },
  {
   "cell_type": "markdown",
   "metadata": {},
   "source": [
    "# Funções"
   ]
  },
  {
   "cell_type": "code",
   "execution_count": 5,
   "metadata": {},
   "outputs": [],
   "source": [
    "def f(x): return x*np.exp(x)\n",
    "def g(x): return 1 -x**2\n",
    "def h(x): return np.exp(x)-x-2\n",
    "def j(x): return np.log10(x) - 1.2"
   ]
  },
  {
   "cell_type": "markdown",
   "metadata": {},
   "source": [
    "# Derivadas das funções"
   ]
  },
  {
   "cell_type": "code",
   "execution_count": 6,
   "metadata": {},
   "outputs": [],
   "source": [
    "def fd(x): return np.exp(x)+x*np.exp(x)\n",
    "def gd(x): return -2*x\n",
    "def hd(x): return np.exp(x) -1\n",
    "def jd(x): return 1/np.log(10)*x"
   ]
  },
  {
   "cell_type": "code",
   "execution_count": 7,
   "metadata": {},
   "outputs": [
    {
     "data": {
      "text/plain": [
       "False"
      ]
     },
     "execution_count": 7,
     "metadata": {},
     "output_type": "execute_result"
    }
   ],
   "source": [
    "xn =  1.0000 \n",
    "a =  0.9999 \n",
    "b = 2\n",
    "g(xn)*g(b) < 0"
   ]
  },
  {
   "cell_type": "code",
   "execution_count": 8,
   "metadata": {},
   "outputs": [
    {
     "data": {
      "text/plain": [
       "False"
      ]
     },
     "execution_count": 8,
     "metadata": {},
     "output_type": "execute_result"
    }
   ],
   "source": [
    "np.abs(g(xn)) < np.abs(g(b)) < 0"
   ]
  },
  {
   "cell_type": "markdown",
   "metadata": {},
   "source": [
    "# Métodos"
   ]
  },
  {
   "cell_type": "code",
   "execution_count": 9,
   "metadata": {},
   "outputs": [],
   "source": [
    "def metodoArtigo(f,fd,a,b,ni):\n",
    "    while(True):\n",
    "        xn = ((a*f(b)-b*f(a))/(2*(f(b)-f(a))))+((a-(f(a)/fd(a)))/2)\n",
    "        print(xn)\n",
    "        if(xn*f(a) < 0):\n",
    "            if(np.abs(f(a))< np.abs(f(xn))):\n",
    "                aux = xn\n",
    "                xn = a\n",
    "                a = aux\n",
    "            else:\n",
    "                b = a\n",
    "                a = xn\n",
    "        elif(xn*f(b) < 0):\n",
    "            if(np.abs(f(xn))< np.abs(f(b))):\n",
    "                b = xn\n",
    "            else:\n",
    "                a = xn\n",
    "        \n",
    "        \n",
    "        ni -=1\n",
    "        if(ni == 0):\n",
    "            return xn\n"
   ]
  },
  {
   "cell_type": "code",
   "execution_count": 16,
   "metadata": {},
   "outputs": [],
   "source": [
    "def metodoArtigoTeste(f,fd,a,b,ni):\n",
    "    while(True):\n",
    "        xn = ((a*f(b)-b*f(a))/(2*(f(b)-f(a))))+((a-(f(a)/fd(a)))/2)\n",
    "        print(xn)\n",
    "        if(xn*f(a) < 0):\n",
    "            if(np.abs(f(a))< np.abs(f(xn))):\n",
    "                xn = xn\n",
    "            else:\n",
    "                b = a\n",
    "                a = xn\n",
    "        elif(xn*f(a) > 0):\n",
    "            if(np.abs(f(xn))< np.abs(f(b))):\n",
    "                a = xn\n",
    "            else:\n",
    "                a = b\n",
    "                b =xn\n",
    "        \n",
    "        \n",
    "        ni -=1\n",
    "        if(ni == 0):\n",
    "            return xn\n",
    "\n"
   ]
  },
  {
   "cell_type": "code",
   "execution_count": 246,
   "metadata": {},
   "outputs": [],
   "source": [
    "def abicecao(f,a,b,ni):\n",
    "    xn = opt.root_scalar(f,method='bisect',bracket=[a,b])\n",
    "    return xn"
   ]
  },
  {
   "cell_type": "code",
   "execution_count": 80,
   "metadata": {},
   "outputs": [],
   "source": [
    "def newton(f,fd,a,ni):\n",
    "    xn = opt.root_scalar(f1, fprime=f2, x0=0,maxiter=ni,method='newton')\n",
    "    return xn"
   ]
  },
  {
   "cell_type": "code",
   "execution_count": 19,
   "metadata": {},
   "outputs": [],
   "source": [
    "def secante(f,a,b,ni):\n",
    "    return opt.root_scalar(f, x0=a, x1 = b,maxiter=ni,method='secant')"
   ]
  },
  {
   "cell_type": "code",
   "execution_count": 26,
   "metadata": {},
   "outputs": [],
   "source": [
    "def falsa_pos(f,x0,x1,eps):\n",
    "    x2=x0 - f(x0)*(x1-x0)/(f(x1)-f(x0))\n",
    "    while eps != 0:\n",
    "        if (f(x0)*f(x2)>0): x0=x2\n",
    "        else : x1=x2\n",
    "        x2=x0 - f(x0)*(x1-x0)/(f(x1)-f(x0))\n",
    "        eps -=1\n",
    "    return x2\n",
    "\n",
    "    "
   ]
  },
  {
   "cell_type": "markdown",
   "metadata": {},
   "source": [
    "# Testes"
   ]
  },
  {
   "cell_type": "code",
   "execution_count": 33,
   "metadata": {},
   "outputs": [
    {
     "data": {
      "text/plain": [
       "0.975609756097561"
      ]
     },
     "execution_count": 33,
     "metadata": {},
     "output_type": "execute_result"
    }
   ],
   "source": [
    "(a,b) = 0,2\n",
    "ni = 3\n",
    "falsa_pos(g,2,0,3)"
   ]
  },
  {
   "cell_type": "code",
   "execution_count": 34,
   "metadata": {},
   "outputs": [
    {
     "name": "stdout",
     "output_type": "stream",
     "text": [
      "0.9827251552795031\n",
      "1.0050454684538113\n",
      "1.0050454684538113\n"
     ]
    },
    {
     "data": {
      "text/plain": [
       "1.0050454684538113"
      ]
     },
     "execution_count": 34,
     "metadata": {},
     "output_type": "execute_result"
    }
   ],
   "source": [
    "metodoArtigo(g,gd,0.875,2,3)"
   ]
  },
  {
   "cell_type": "code",
   "execution_count": 258,
   "metadata": {},
   "outputs": [
    {
     "data": {
      "text/plain": [
       "      converged: True\n",
       "           flag: 'converged'\n",
       " function_calls: 3\n",
       "     iterations: 1\n",
       "           root: 1.0"
      ]
     },
     "execution_count": 258,
     "metadata": {},
     "output_type": "execute_result"
    }
   ],
   "source": [
    "abicecao(g,0,2,1)"
   ]
  },
  {
   "cell_type": "code",
   "execution_count": 357,
   "metadata": {},
   "outputs": [
    {
     "data": {
      "text/plain": [
       "      converged: False\n",
       "           flag: 'convergence error'\n",
       " function_calls: 3\n",
       "     iterations: 1\n",
       "           root: -1.7615941559557646"
      ]
     },
     "execution_count": 357,
     "metadata": {},
     "output_type": "execute_result"
    }
   ],
   "source": [
    "secante(h,0,-2,1)"
   ]
  },
  {
   "cell_type": "code",
   "execution_count": 61,
   "metadata": {},
   "outputs": [
    {
     "name": "stdout",
     "output_type": "stream",
     "text": [
      "-2.5091035326788567\n"
     ]
    }
   ],
   "source": []
  },
  {
   "cell_type": "code",
   "execution_count": null,
   "metadata": {},
   "outputs": [],
   "source": []
  }
 ],
 "metadata": {
  "kernelspec": {
   "display_name": "Python 3",
   "language": "python",
   "name": "python3"
  },
  "language_info": {
   "codemirror_mode": {
    "name": "ipython",
    "version": 3
   },
   "file_extension": ".py",
   "mimetype": "text/x-python",
   "name": "python",
   "nbconvert_exporter": "python",
   "pygments_lexer": "ipython3",
   "version": "3.8.5"
  }
 },
 "nbformat": 4,
 "nbformat_minor": 4
}
