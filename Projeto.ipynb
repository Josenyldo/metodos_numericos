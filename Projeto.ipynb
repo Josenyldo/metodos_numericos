{
 "cells": [
  {
   "cell_type": "code",
   "execution_count": 4,
   "metadata": {},
   "outputs": [],
   "source": [
    "import scipy.optimize as opt\n",
    "import numpy as np\n",
    "from sympy import *"
   ]
  },
  {
   "cell_type": "markdown",
   "metadata": {},
   "source": [
    "Assumindo que já foi feita a deriada da função\n",
    "a, b, x by xn−1,xn+1,xn\n",
    "xlog10(x)−1.2=0."
   ]
  },
  {
   "cell_type": "markdown",
   "metadata": {},
   "source": [
    "# Funções"
   ]
  },
  {
   "cell_type": "code",
   "execution_count": 5,
   "metadata": {},
   "outputs": [],
   "source": [
    "def f(x): return x*np.exp(x)\n",
    "def g(x): return 1 -x**2\n",
    "def h(x): return np.exp(x)-x-2\n",
    "def j(x): return np.log10(x) - 1.2"
   ]
  },
  {
   "cell_type": "markdown",
   "metadata": {},
   "source": [
    "# Derivadas das funções"
   ]
  },
  {
   "cell_type": "code",
   "execution_count": 6,
   "metadata": {},
   "outputs": [],
   "source": [
    "def fd(x): return np.exp(x)+x*np.exp(x)\n",
    "def gd(x): return -2*x\n",
    "def hd(x): return np.exp(x) -1\n",
    "def jd(x): return 1/np.log(10)*x"
   ]
  },
  {
   "cell_type": "markdown",
   "metadata": {},
   "source": [
    "# Métodos"
   ]
  },
  {
   "cell_type": "code",
   "execution_count": 89,
   "metadata": {},
   "outputs": [],
   "source": [
    "def metodoArtigo(f,fd,a,b,ni):\n",
    "    while(True):\n",
    "        xn = ((a*f(b)-b*f(a))/(2*(f(b)-f(a))))+((a-(f(a)/fd(a)))/2)\n",
    "        if(xn*f(a) < 0):\n",
    "            if(np.abs(f(a))< np.abs(f(xn))):\n",
    "                aux = xn\n",
    "                xn = a\n",
    "                a = aux\n",
    "            else:\n",
    "                b = a\n",
    "                a = xn\n",
    "        elif(xn*f(b) < 0):\n",
    "            if(np.abs(f(xn))< np.abs(f(b))):\n",
    "                b = xn\n",
    "            else:\n",
    "                a = xn    \n",
    "        ni -=1\n",
    "        if(ni == 0):\n",
    "            return xn\n"
   ]
  },
  {
   "cell_type": "code",
   "execution_count": 85,
   "metadata": {},
   "outputs": [],
   "source": [
    "def metodoArtigoTeste(f,fd,a,b,ni):\n",
    "    while(True):\n",
    "        xn = ((a*f(b)-b*f(a))/(2*(f(b)-f(a))))+((a-(f(a)/fd(a)))/2)\n",
    "        if(xn*f(a) < 0):\n",
    "            if(np.abs(f(a))< np.abs(f(xn))):\n",
    "                xn = xn\n",
    "            else:\n",
    "                b = a\n",
    "                a = xn\n",
    "        elif(xn*f(a) > 0):\n",
    "            if(np.abs(f(xn))< np.abs(f(b))):\n",
    "                a = xn\n",
    "            else:\n",
    "                a = b\n",
    "                b =xn\n",
    "        \n",
    "        \n",
    "        ni -=1\n",
    "        if(ni == 0):\n",
    "            return xn\n",
    "\n"
   ]
  },
  {
   "cell_type": "code",
   "execution_count": 39,
   "metadata": {},
   "outputs": [],
   "source": [
    "def abisect(f,a,b,ni):\n",
    "    return opt.root_scalar(f,method='bisect',bracket=[a,b]).root"
   ]
  },
  {
   "cell_type": "code",
   "execution_count": 103,
   "metadata": {},
   "outputs": [],
   "source": [
    "def newton(f,fd,a,ni):\n",
    "    return opt.root_scalar(f, fprime=fd, x0=a,maxiter=ni,method='newton').root"
   ]
  },
  {
   "cell_type": "code",
   "execution_count": 49,
   "metadata": {},
   "outputs": [],
   "source": [
    "def secante(f,a,b,ni):\n",
    "    return opt.root_scalar(f, x0=a, x1 = b,maxiter=ni,method='secant').root"
   ]
  },
  {
   "cell_type": "code",
   "execution_count": 108,
   "metadata": {},
   "outputs": [],
   "source": [
    "def falsa_pos(f,a,b,ni):\n",
    "    xn = a - f(a)*(b-a)/(f(b)-f(a))\n",
    "    while ni != 0:\n",
    "        if (f(a)*f(xn)>0): a=xn\n",
    "        else : b=xn\n",
    "        xn=a - f(a)*(b-a)/(f(b)-f(a))\n",
    "        ni -=1\n",
    "    return xn\n",
    "\n",
    "    "
   ]
  },
  {
   "cell_type": "markdown",
   "metadata": {},
   "source": [
    "# Testes"
   ]
  },
  {
   "cell_type": "code",
   "execution_count": 118,
   "metadata": {},
   "outputs": [],
   "source": [
    "# aproximações iniciais\n",
    "(a,b)= (2,0)\n",
    "\n",
    "# raizes\n",
    "raizFalsaPos = []\n",
    "raizAbiss = []\n",
    "raizNewton = []\n",
    "raizSecante = []\n",
    "raizNovoMet = []\n",
    "\n",
    "# erros relativo\n",
    "errRelFalsaPos = []\n",
    "errRelAbiss = []\n",
    "errRelNewton = []\n",
    "errRelSecante = []\n",
    "errRelNovoMet = []\n",
    "\n",
    "xnOld = 1\n",
    "for i in range(1,4):\n",
    "    raizAbiss.append(abisect(g,a,b,i))\n",
    "    errRelAbiss.append(np.abs(xnOld - abisect(g,a,b,i))/xnOld)\n",
    "    \n",
    "    raizNewton.append(newton(g,gd,a,i))\n",
    "    errRelNewton.append(np.abs(xnOld-newton(g,gd,a,i) )/xnOld)\n",
    "    \n",
    "    \n",
    "    raizSecante.append(secante(g,a,b,i))\n",
    "    errRelSecante.append(np.abs(xnOld - secante(g,a,b,i))/xnOld)\n",
    "    \n",
    "    \n",
    "    raizNovoMet.append(metodoArtigo(g,gd,a,b,i))\n",
    "    errRelNovoMet.append(np.abs(xnOld - metodoArtigo(g,gd,a,b,i))/xnOld)\n",
    "    \n",
    "    \n",
    "    \n",
    "    raizFalsaPos.append(falsa_pos(g,a,b,i))\n",
    "    errRelFalsaPos.append(np.abs(xnOld - falsa_pos(g,a,b,i))/xn)\n",
    "    "
   ]
  },
  {
   "cell_type": "markdown",
   "metadata": {},
   "source": [
    "# Tabela"
   ]
  },
  {
   "cell_type": "code",
   "execution_count": 120,
   "metadata": {},
   "outputs": [
    {
     "name": "stdout",
     "output_type": "stream",
     "text": [
      "           Raiz Bisect  Erro Bisect  Raiz Newton  Erro Newton  Erro Secante  \\\n",
      "Iterações                                                                     \n",
      "1             0.500000          0.0     1.250000     0.250000      0.500000   \n",
      "2             0.800000          0.0     1.025000     0.025000      0.200000   \n",
      "3             1.076923          0.0     1.000305     0.000305      0.076923   \n",
      "\n",
      "           Raiz Novo Método  Erro Novo método  Raiz Falsa Posição  \\\n",
      "Iterações                                                           \n",
      "1                  0.875000          0.125000            0.800000   \n",
      "2                  0.982725          0.017275            0.928571   \n",
      "3                  1.005045          0.005045            0.975610   \n",
      "\n",
      "           Erro Falsa Posição  \n",
      "Iterações                      \n",
      "1                    0.200000  \n",
      "2                    0.071429  \n",
      "3                    0.024390  \n"
     ]
    }
   ],
   "source": [
    "import pandas as pd\n",
    "print(pd.DataFrame({'Iterações':range(1,4),'Raiz Bisect': raizAbiss,'Erro Bisect':errRelAbiss,'Raiz Newton': raizNewton,'Erro Newton':errRelNewton,'Raiz Bisect': raizSecante,'Erro Secante':errRelSecante,'Raiz Novo Método': raizNovoMet,'Erro Novo método':errRelNovoMet,'Raiz Falsa Posição': raizFalsaPos,'Erro Falsa Posição':errRelFalsaPos}).set_index('Iterações'))"
   ]
  }
 ],
 "metadata": {
  "kernelspec": {
   "display_name": "Python 3",
   "language": "python",
   "name": "python3"
  },
  "language_info": {
   "codemirror_mode": {
    "name": "ipython",
    "version": 3
   },
   "file_extension": ".py",
   "mimetype": "text/x-python",
   "name": "python",
   "nbconvert_exporter": "python",
   "pygments_lexer": "ipython3",
   "version": "3.8.5"
  }
 },
 "nbformat": 4,
 "nbformat_minor": 4
}
