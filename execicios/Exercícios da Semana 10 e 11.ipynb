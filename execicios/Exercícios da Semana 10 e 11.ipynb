{
 "cells": [
  {
   "cell_type": "code",
   "execution_count": 9,
   "metadata": {
    "id": "Sa-QKwk9tAnk"
   },
   "outputs": [],
   "source": [
    "import numpy as np"
   ]
  },
  {
   "cell_type": "code",
   "execution_count": 10,
   "metadata": {
    "id": "Z_79L1bVtHYX"
   },
   "outputs": [],
   "source": [
    "def lu(A):\n",
    "    n = A.shape[0]\n",
    "    piv = np.arange(0,n)\n",
    "    U = A.copy()\n",
    "    for k in range(n-1):\n",
    "        ind_max_linha = np.argmax(abs(U[k:n,k])) + k\n",
    "        piv[[k,ind_max_linha]] = piv[[ind_max_linha,k]]\n",
    "        U[[k,ind_max_linha]] = U[[ind_max_linha,k]]\n",
    "        for i in range(k+1,n):          \n",
    "            U[i,k] = U[i,k]/U[k,k]      \n",
    "            for j in range(k+1,n):      \n",
    "                U[i,j] -= U[i,k]*U[k,j] \n",
    "\n",
    "    return [U,piv]\n",
    "\n",
    "def sist_lin_tri_inf(L,b):\n",
    "    for i in range(L.shape[0]): \n",
    "        for j in range(i):\n",
    "            b[i] -= L[i,j]*b[j]\n",
    "    return b\n",
    "\n",
    "def sist_lin_tri_sup(U,y):\n",
    "    for i in range(U.shape[0]-1,-1,-1): \n",
    "        for j in range(i+1, U.shape[1]):\n",
    "            y[i] -= U[i,j]*y[j]\n",
    "        y[i] = y[i]/U[i,i]\n",
    "    return y"
   ]
  },
  {
   "cell_type": "markdown",
   "metadata": {
    "id": "lZHGLzkTtVf5"
   },
   "source": [
    "**Letra A**"
   ]
  },
  {
   "cell_type": "code",
   "execution_count": 11,
   "metadata": {
    "colab": {
     "base_uri": "https://localhost:8080/"
    },
    "id": "RMwRZSWGtVom",
    "outputId": "0e0e3812-5c75-4695-8c6b-6e345d4f4370"
   },
   "outputs": [
    {
     "data": {
      "text/plain": [
       "array([ 1., -1.,  1.])"
      ]
     },
     "execution_count": 11,
     "metadata": {
      "tags": []
     },
     "output_type": "execute_result"
    }
   ],
   "source": [
    "A = np.array([[1, 1, 1], [4, 4, 2], [2, 1., -1]])\n",
    "b = np.array([1, 2, 0.])\n",
    "\n",
    "LU, piv = lu(A)                      \n",
    "b = b[piv]\n",
    "y = sist_lin_tri_inf( LU, b )\n",
    "x = sist_lin_tri_sup(  LU, y )\n",
    "x"
   ]
  },
  {
   "cell_type": "code",
   "execution_count": 12,
   "metadata": {
    "colab": {
     "base_uri": "https://localhost:8080/"
    },
    "id": "Zi2GTMi84wp1",
    "outputId": "e2c2ea30-0d24-44ae-8dff-73d3025f808f"
   },
   "outputs": [
    {
     "data": {
      "text/plain": [
       "array([1., 2., 0.])"
      ]
     },
     "execution_count": 12,
     "metadata": {
      "tags": []
     },
     "output_type": "execute_result"
    }
   ],
   "source": [
    "A@x"
   ]
  },
  {
   "cell_type": "markdown",
   "metadata": {
    "id": "gED69OtJtV0M"
   },
   "source": [
    "**Letra B**"
   ]
  },
  {
   "cell_type": "code",
   "execution_count": 13,
   "metadata": {
    "colab": {
     "base_uri": "https://localhost:8080/"
    },
    "id": "WyEc7TW7tV-Y",
    "outputId": "439b056d-5be5-40a9-95b8-18ee0e8c3268"
   },
   "outputs": [
    {
     "data": {
      "text/plain": [
       "array([5.64285714, 5.64285714, 1.        ])"
      ]
     },
     "execution_count": 13,
     "metadata": {
      "tags": []
     },
     "output_type": "execute_result"
    }
   ],
   "source": [
    "A = np.array([[7, -7, 1], [-3, 3, 2], [7, 7., -72]])\n",
    "b = np.array([1, 2, 7.])\n",
    "\n",
    "LU, piv = lu(A)                      \n",
    "b = b[piv]\n",
    "y = sist_lin_tri_inf( LU, b )\n",
    "x = sist_lin_tri_sup(  LU, y )\n",
    "x"
   ]
  },
  {
   "cell_type": "code",
   "execution_count": 14,
   "metadata": {
    "colab": {
     "base_uri": "https://localhost:8080/"
    },
    "id": "5fYaFwGA43nQ",
    "outputId": "250a2595-d526-4e3c-ebc8-d87e4a76f51a"
   },
   "outputs": [
    {
     "data": {
      "text/plain": [
       "array([1., 2., 7.])"
      ]
     },
     "execution_count": 14,
     "metadata": {
      "tags": []
     },
     "output_type": "execute_result"
    }
   ],
   "source": [
    "A@x"
   ]
  },
  {
   "cell_type": "markdown",
   "metadata": {
    "id": "gEEFeTeJtWJW"
   },
   "source": [
    "**Letra C**"
   ]
  },
  {
   "cell_type": "code",
   "execution_count": 15,
   "metadata": {
    "colab": {
     "base_uri": "https://localhost:8080/"
    },
    "id": "vHRqSfFOtWTA",
    "outputId": "471e87d2-69b6-4afb-d774-28c3b18095d1"
   },
   "outputs": [
    {
     "data": {
      "text/plain": [
       "array([ 2., -2.,  2.,  4.])"
      ]
     },
     "execution_count": 15,
     "metadata": {
      "tags": []
     },
     "output_type": "execute_result"
    }
   ],
   "source": [
    "A = np.array([[1, 2, 3, 4], [2, 2, 3, 4], [3, 3., 3, 4], [4, 4, 4, 4]])\n",
    "b = np.array([20, 22, 22., 24])\n",
    "\n",
    "LU, piv = lu(A)                      \n",
    "b = b[piv]\n",
    "y = sist_lin_tri_inf( LU, b )\n",
    "x = sist_lin_tri_sup(  LU, y )\n",
    "x"
   ]
  },
  {
   "cell_type": "code",
   "execution_count": 16,
   "metadata": {
    "colab": {
     "base_uri": "https://localhost:8080/"
    },
    "id": "U9DYLmud48c_",
    "outputId": "1bb51749-4bd3-446c-f05d-4a7a53fd172c"
   },
   "outputs": [
    {
     "data": {
      "text/plain": [
       "array([20., 22., 22., 24.])"
      ]
     },
     "execution_count": 16,
     "metadata": {
      "tags": []
     },
     "output_type": "execute_result"
    }
   ],
   "source": [
    "A@x"
   ]
  }
 ],
 "metadata": {
  "colab": {
   "collapsed_sections": [],
   "name": "Exercícios da Semana 10 e 11.ipynb",
   "provenance": []
  },
  "kernelspec": {
   "display_name": "Python 3",
   "language": "python",
   "name": "python3"
  },
  "language_info": {
   "codemirror_mode": {
    "name": "ipython",
    "version": 3
   },
   "file_extension": ".py",
   "mimetype": "text/x-python",
   "name": "python",
   "nbconvert_exporter": "python",
   "pygments_lexer": "ipython3",
   "version": "3.8.5"
  }
 },
 "nbformat": 4,
 "nbformat_minor": 1
}
